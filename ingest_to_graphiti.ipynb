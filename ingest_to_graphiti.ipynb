{
 "cells": [
  {
   "cell_type": "code",
   "execution_count": 4,
   "metadata": {},
   "outputs": [],
   "source": [
    "from dotenv import load_dotenv\n",
    "import os\n",
    "from graphiti_core import Graphiti\n",
    "from graphiti_core.nodes import EpisodeType\n",
    "\n",
    "\n",
    "load_dotenv()\n",
    "\n",
    "neo4j_uri = os.environ.get('NEO4J_URI', 'bolt://localhost:7687')\n",
    "neo4j_user = os.environ.get('NEO4J_USER', 'neo4j')\n",
    "neo4j_password = os.environ.get('NEO4J_PASSWORD', 'password')\n"
   ]
  },
  {
   "cell_type": "code",
   "execution_count": 5,
   "metadata": {},
   "outputs": [],
   "source": [
    "if not neo4j_uri or not neo4j_user or not neo4j_password:\n",
    "        raise ValueError('NEO4J_URI, NEO4J_USER, and NEO4J_PASSWORD must be set')\n",
    "\n"
   ]
  },
  {
   "cell_type": "code",
   "execution_count": 9,
   "metadata": {},
   "outputs": [
    {
     "name": "stdout",
     "output_type": "stream",
     "text": [
      "UUID: 76428037-d268-4036-9100-0b2f8458f115\n",
      "Fact: The cost of Acnelan Peel is $1,300 (includes three treatments and Home Care Package).\n",
      "Valid from: 2025-06-05 03:54:24+00:00\n",
      "---\n",
      "UUID: d278278a-e698-4cfd-b9fa-1f0347d4df39\n",
      "Fact: The Glow Peel Facial includes the treatment option Glow Peel (Light peel + mask) $99.\n",
      "Valid from: 2025-06-05 06:09:15+00:00\n",
      "---\n",
      "UUID: 13722765-913c-471e-9caa-0b1ab48814e9\n",
      "Fact: Chemical Peels Perth target the Face area.\n",
      "Valid from: 2025-06-05 05:40:50+00:00\n",
      "---\n",
      "UUID: 93e94bac-ff95-4776-a757-13c75aee7752\n",
      "Fact: Skin Peel is a common name for Chemical Peels Perth.\n",
      "Valid from: 2025-06-05 05:40:50+00:00\n",
      "---\n",
      "UUID: f4203cd3-cfec-43a5-9847-23f720ac3f3d\n",
      "Fact: Facial Peel is a common name for Chemical Peels Perth.\n",
      "Valid from: 2025-06-05 05:40:50+00:00\n",
      "---\n",
      "UUID: b0520ea1-bc80-468c-aacb-73c4def3577f\n",
      "Fact: Microdermabrasion costs from $99.\n",
      "Valid from: 2025-06-05 05:50:00+00:00\n",
      "---\n",
      "UUID: d799580b-23eb-420c-8f54-52daa1ee863d\n",
      "Fact: Glycolic Acid Peel is a common name for Chemical Peels Perth.\n",
      "Valid from: 2025-06-05 05:40:50+00:00\n",
      "---\n",
      "UUID: 961716ae-fdd6-44df-b9a2-4e6fa6dffddb\n",
      "Fact: Chemical Peels Perth target the Hands area, though results are less predictable due to scarring risk.\n",
      "Valid from: 2025-06-05 05:40:50+00:00\n",
      "---\n",
      "UUID: 2e53c035-f6d9-43fa-9868-83d3e42acf80\n",
      "Fact: Lactic Acid Peel is a common name for Chemical Peels Perth.\n",
      "Valid from: 2025-06-05 05:40:50+00:00\n",
      "---\n",
      "UUID: e45cc2e7-d5b0-4484-a052-79f53adda9f8\n",
      "Fact: Fruit Acid Peel is a common name for Chemical Peels Perth.\n",
      "Valid from: 2025-06-05 05:40:50+00:00\n",
      "---\n"
     ]
    }
   ],
   "source": [
    "graphiti = Graphiti(neo4j_uri, neo4j_user, neo4j_password)\n",
    "query=\"\"\"\n",
    "How much will a chemical peel cost me?\n",
    "\"\"\"\n",
    "results = await graphiti.search(query)\n",
    "for result in results:\n",
    "            print(f'UUID: {result.uuid}')\n",
    "            print(f'Fact: {result.fact}')\n",
    "            if hasattr(result, 'valid_at') and result.valid_at:\n",
    "                print(f'Valid from: {result.valid_at}')\n",
    "            if hasattr(result, 'invalid_at') and result.invalid_at:\n",
    "                print(f'Valid until: {result.invalid_at}')\n",
    "            print('---')\n",
    "\n"
   ]
  },
  {
   "cell_type": "code",
   "execution_count": null,
   "metadata": {},
   "outputs": [],
   "source": [
    "graphiti.close()"
   ]
  }
 ],
 "metadata": {
  "kernelspec": {
   "display_name": "venv",
   "language": "python",
   "name": "python3"
  },
  "language_info": {
   "codemirror_mode": {
    "name": "ipython",
    "version": 3
   },
   "file_extension": ".py",
   "mimetype": "text/x-python",
   "name": "python",
   "nbconvert_exporter": "python",
   "pygments_lexer": "ipython3",
   "version": "3.13.3"
  }
 },
 "nbformat": 4,
 "nbformat_minor": 2
}
